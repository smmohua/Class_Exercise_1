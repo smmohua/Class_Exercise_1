{
  "nbformat": 4,
  "nbformat_minor": 0,
  "metadata": {
    "colab": {
      "provenance": [],
      "collapsed_sections": []
    },
    "kernelspec": {
      "name": "python3",
      "display_name": "Python 3"
    },
    "language_info": {
      "name": "python"
    }
  },
  "cells": [
    {
      "cell_type": "markdown",
      "source": [
        "(1) Write a Python program to calculate the length of a string. (4 points)"
      ],
      "metadata": {
        "id": "yahXuffKmiOi"
      }
    },
    {
      "cell_type": "code",
      "source": [
        "my_hello_str='Spring_2022'\n",
        "str_len=len(my_hello_str)\n",
        "print(str_len)"
      ],
      "metadata": {
        "colab": {
          "base_uri": "https://localhost:8080/"
        },
        "id": "_rlerlpCmza4",
        "outputId": "b4b59c81-8373-4a79-cadd-dcf95296496d"
      },
      "execution_count": null,
      "outputs": [
        {
          "output_type": "stream",
          "name": "stdout",
          "text": [
            "11\n"
          ]
        }
      ]
    },
    {
      "cell_type": "markdown",
      "source": [
        "(2) Write a Python program to count the number of characters in a string. (4 points)"
      ],
      "metadata": {
        "id": "31iR-A06sVCY"
      }
    },
    {
      "cell_type": "code",
      "source": [
        "my_hello_str='research.com'\n",
        "response = {}\n",
        "for char in my_hello_str:\n",
        "   response[char]=my_hello_str.count(char)\n",
        "print(response)"
      ],
      "metadata": {
        "colab": {
          "base_uri": "https://localhost:8080/"
        },
        "id": "xtdWQl6z93_c",
        "outputId": "493cd773-c56b-4127-dbbe-5717817c822c"
      },
      "execution_count": null,
      "outputs": [
        {
          "output_type": "stream",
          "name": "stdout",
          "text": [
            "{'r': 2, 'e': 2, 's': 1, 'a': 1, 'c': 2, 'h': 1, '.': 1, 'o': 1, 'm': 1}\n"
          ]
        }
      ]
    },
    {
      "cell_type": "markdown",
      "source": [
        "(3) Write a Python program to sum all the items in a list. (4 points)"
      ],
      "metadata": {
        "id": "v9kmeFTxNefG"
      }
    },
    {
      "cell_type": "code",
      "source": [
        "def sumoflistitems(my_list):\n",
        "   sum_of_items=0\n",
        "   for i in my_list:\n",
        "     um_of_items+=i\n",
        "     return um_of_items\n",
        "     print(sumoflistitems([1,5,8,9,12,-6]))"
      ],
      "metadata": {
        "id": "OHDdDDFyNl74"
      },
      "execution_count": null,
      "outputs": []
    },
    {
      "cell_type": "markdown",
      "source": [
        "(4) Write a Python program to get a string from a given string where all occurrences of its first char have been changed to '$', except the first char itself. (4 points)"
      ],
      "metadata": {
        "id": "UG3RqlQsb4Bk"
      }
    },
    {
      "cell_type": "code",
      "source": [
        "my_hello_str='restart'\n",
        "first_char=my_hello_str[0]\n",
        "my_hello_str=my_hello_str.replace(first_char,'$')\n",
        "my_hello_str=first_char+my_hello_str[1:]\n",
        "print(my_hello_str)"
      ],
      "metadata": {
        "colab": {
          "base_uri": "https://localhost:8080/"
        },
        "id": "Cn_wVOL1b52P",
        "outputId": "0be95178-dc13-4147-8038-e73a3d9eff50"
      },
      "execution_count": null,
      "outputs": [
        {
          "output_type": "stream",
          "name": "stdout",
          "text": [
            "resta$t\n"
          ]
        }
      ]
    },
    {
      "cell_type": "markdown",
      "source": [
        "(5) Write a program with python which could accept two parameter a and b to calculate and output the result of S, where\n",
        " 𝑆=3.14∗(1+𝑎/𝑏)3\n"
      ],
      "metadata": {
        "id": "jJ-NgYSUgxjf"
      }
    },
    {
      "cell_type": "code",
      "source": [
        "def calculation(a,b):\n",
        "  if(b==0):\n",
        "    return 'divisor should not be a zero value'\n",
        "  else:\n",
        "      return 3.14*(1+a/b)**3\n",
        "print(calculation(1, 2))\n",
        "print(calculation(1,0))"
      ],
      "metadata": {
        "id": "mi8TFzZxibo-",
        "colab": {
          "base_uri": "https://localhost:8080/"
        },
        "outputId": "398225d6-41d8-491f-ea2b-f0fa59f251af"
      },
      "execution_count": null,
      "outputs": [
        {
          "output_type": "stream",
          "name": "stdout",
          "text": [
            "10.5975\n",
            "divisor should not be a zero value\n"
          ]
        }
      ]
    },
    {
      "cell_type": "markdown",
      "source": [
        "(6) Write a Python program to concatenate following dictionaries to create a new one. (4 points)"
      ],
      "metadata": {
        "id": "2Y41j7GhndjC"
      }
    },
    {
      "cell_type": "code",
      "source": [
        "my_diction1={2:20, 4:40}\n",
        "my_diction2={6:60, 8:80}\n",
        "my_diction3={10:100, 12:120}\n",
        "result={**my_diction1, **my_diction2, **my_diction3}\n",
        "print(result)"
      ],
      "metadata": {
        "colab": {
          "base_uri": "https://localhost:8080/"
        },
        "id": "clwid2WRoTw_",
        "outputId": "f64ed0fa-54ba-404b-982d-37fe072934b2"
      },
      "execution_count": null,
      "outputs": [
        {
          "output_type": "stream",
          "name": "stdout",
          "text": [
            "{2: 20, 4: 40, 6: 60, 8: 80, 10: 100, 12: 120}\n"
          ]
        }
      ]
    },
    {
      "cell_type": "markdown",
      "source": [
        "(7) Write a Python program to check whether an element exists within a tuple. (4 points)"
      ],
      "metadata": {
        "id": "q2l6HQx4yHle"
      }
    },
    {
      "cell_type": "code",
      "source": [
        "my_tuple=(16,17,'xyz','0.6')\n",
        "print(16 in my_tuple)\n",
        "print('abc' in my_tuple)"
      ],
      "metadata": {
        "id": "gQn0rsJRyM9k",
        "colab": {
          "base_uri": "https://localhost:8080/"
        },
        "outputId": "e58c1cdc-7612-423e-d823-c88b761f7550"
      },
      "execution_count": null,
      "outputs": [
        {
          "output_type": "stream",
          "name": "stdout",
          "text": [
            "True\n",
            "False\n"
          ]
        }
      ]
    },
    {
      "cell_type": "markdown",
      "source": [
        "(8) Write a Python program to find maximum and the minimum value in a set. (4 points)"
      ],
      "metadata": {
        "id": "3bOow-IcM81B"
      }
    },
    {
      "cell_type": "code",
      "source": [
        "make_set={2,4,5,7,10,25,28}\n",
        "print('max value :', max(make_set))\n",
        "print('min value :', min(make_set))"
      ],
      "metadata": {
        "colab": {
          "base_uri": "https://localhost:8080/"
        },
        "id": "GQe1dGOaNV-d",
        "outputId": "ca3b5ed7-066a-4e97-cf13-fea0a1dc7b89"
      },
      "execution_count": null,
      "outputs": [
        {
          "output_type": "stream",
          "name": "stdout",
          "text": [
            "max value : 28\n",
            "min value : 2\n"
          ]
        }
      ]
    },
    {
      "cell_type": "markdown",
      "source": [
        "(9) Write a Python program to randomly divide the students in this class into six groups for term projects, each group should have at least 4 students but no more than 6 students (including 6). Here is the students list: (4 points)\n",
        "\n",
        "studnet_list = ['ja0964','sa1198','sb1357','vb0218','sc1229','kg0569','kg0470','sg1297','bg0320','fh0141','jl1252','sk1386', 'ak0956','sk1390','sk1458','sk1313','ak0934','vm0377','nm0618','sm1640','sm1907','gn0108','pr0353','dr0609','ms1500','aos0040','ds0814', 'av0659','nv0234','hy0232']"
      ],
      "metadata": {
        "id": "Gyq-uSX3OOG_"
      }
    },
    {
      "cell_type": "code",
      "source": [
        "import random\n",
        "def partitionlist(student_list,n):\n",
        "  random.shuffle(student_list)\n",
        "    return[studentlist[i::n] for i in range(n)]\n",
        "student_list = ['ja0964','sa1198','sb1357','vb0218','sc1229','kg0569','kg0470','sg1297','bg0320','fh0141','jl1252','sk1386', 'ak0956','sk1390','sk1458','sk1313','ak0934','vm0377','nm0618','sm1640','sm1907','gn0108','pr0353','dr0609','ms1500','aos0040','ds0814', 'av0659','nv0234','hy0232']\n",
        "ex=partitionlist(student_list,6)\n",
        "for i in ex:\n",
        " print(n)"
      ],
      "metadata": {
        "id": "vDinmT4LVnva",
        "colab": {
          "base_uri": "https://localhost:8080/",
          "height": 130
        },
        "outputId": "f6a354e2-8940-4104-85c1-bc1e1f1c285d"
      },
      "execution_count": null,
      "outputs": [
        {
          "output_type": "error",
          "ename": "IndentationError",
          "evalue": "ignored",
          "traceback": [
            "\u001b[0;36m  File \u001b[0;32m\"<ipython-input-11-217d612f052b>\"\u001b[0;36m, line \u001b[0;32m4\u001b[0m\n\u001b[0;31m    return[studentlist[i::n] for i in range(n)]\u001b[0m\n\u001b[0m    ^\u001b[0m\n\u001b[0;31mIndentationError\u001b[0m\u001b[0;31m:\u001b[0m unexpected indent\n"
          ]
        }
      ]
    },
    {
      "cell_type": "markdown",
      "source": [
        "(10) Write a Python program to find the duplicate elements in a given array of integers. Return -1 If there are no such elements. (4 points)"
      ],
      "metadata": {
        "id": "PBQp9GQgwe_1"
      }
    },
    {
      "cell_type": "code",
      "source": [
        "def check_duplicates(my_array):\n",
        "    my_result = []\n",
        "    for i in my_array:\n",
        "        if (my_array.count(i)>1) and (i not in my_result):\n",
        "            my_result.append(i)\n",
        "    if len(my_result)==0:\n",
        "        return -1\n",
        "    else:\n",
        "        return my_result\n",
        "print('without duplicates:', check_duplicates([3,2,4,3,2,5,3,7]))\n",
        "print('with duplicates:', check_duplicates([4,2,3,1,5]))"
      ],
      "metadata": {
        "colab": {
          "base_uri": "https://localhost:8080/"
        },
        "id": "hOsfIfAN-ADo",
        "outputId": "14fe0a71-df6a-4dae-8e76-d0a0e45ceff6"
      },
      "execution_count": null,
      "outputs": [
        {
          "output_type": "stream",
          "name": "stdout",
          "text": [
            "without duplicates: [3, 2]\n",
            "with duplicates: -1\n"
          ]
        }
      ]
    },
    {
      "cell_type": "markdown",
      "source": [
        "(11) Write a Python program to select all the Sundays of a specified year. (4 extra points)"
      ],
      "metadata": {
        "id": "vGpCpVJjwoU3"
      }
    },
    {
      "cell_type": "code",
      "source": [
        "from datetime import date, timedelta\n",
        "def all_sundays(year):\n",
        "       dt = date(year, 1, 1)       \n",
        "       dt += timedelta(days = 6 - dt.weekday())  \n",
        "       while dt.year == year:\n",
        "          yield dt\n",
        "          dt += timedelta(days = 7)\n",
        "for sun in all_sundays(2018):\n",
        "   print(sun)"
      ],
      "metadata": {
        "colab": {
          "base_uri": "https://localhost:8080/"
        },
        "id": "hDeMzCOg2yNP",
        "outputId": "f4d208e7-5be0-48d3-c4d9-4c3199b9eacb"
      },
      "execution_count": null,
      "outputs": [
        {
          "output_type": "stream",
          "name": "stdout",
          "text": [
            "2018-01-07\n",
            "2018-01-14\n",
            "2018-01-21\n",
            "2018-01-28\n",
            "2018-02-04\n",
            "2018-02-11\n",
            "2018-02-18\n",
            "2018-02-25\n",
            "2018-03-04\n",
            "2018-03-11\n",
            "2018-03-18\n",
            "2018-03-25\n",
            "2018-04-01\n",
            "2018-04-08\n",
            "2018-04-15\n",
            "2018-04-22\n",
            "2018-04-29\n",
            "2018-05-06\n",
            "2018-05-13\n",
            "2018-05-20\n",
            "2018-05-27\n",
            "2018-06-03\n",
            "2018-06-10\n",
            "2018-06-17\n",
            "2018-06-24\n",
            "2018-07-01\n",
            "2018-07-08\n",
            "2018-07-15\n",
            "2018-07-22\n",
            "2018-07-29\n",
            "2018-08-05\n",
            "2018-08-12\n",
            "2018-08-19\n",
            "2018-08-26\n",
            "2018-09-02\n",
            "2018-09-09\n",
            "2018-09-16\n",
            "2018-09-23\n",
            "2018-09-30\n",
            "2018-10-07\n",
            "2018-10-14\n",
            "2018-10-21\n",
            "2018-10-28\n",
            "2018-11-04\n",
            "2018-11-11\n",
            "2018-11-18\n",
            "2018-11-25\n",
            "2018-12-02\n",
            "2018-12-09\n",
            "2018-12-16\n",
            "2018-12-23\n",
            "2018-12-30\n"
          ]
        }
      ]
    }
  ]
}